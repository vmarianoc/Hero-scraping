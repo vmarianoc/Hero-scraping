{
 "cells": [
  {
   "cell_type": "code",
   "execution_count": 71,
   "metadata": {},
   "outputs": [],
   "source": [
    "from sklearn.datasets import load_breast_cancer\n",
    "from sklearn.tree import DecisionTreeClassifier\n",
    "from sklearn.model_selection import train_test_split\n",
    "from sklearn.tree import DecisionTreeClassifier\n",
    "from sklearn import preprocessing\n",
    "from sklearn.impute import SimpleImputer\n",
    "from sklearn.metrics import roc_curve, auc\n",
    "from matplotlib.legend_handler import HandlerLine2D\n",
    "import matplotlib.pyplot as plt\n",
    "from sklearn.model_selection import cross_val_score\n",
    "import pandas as pd\n",
    "import numpy as np"
   ]
  },
  {
   "cell_type": "code",
   "execution_count": 2,
   "metadata": {},
   "outputs": [],
   "source": [
    "heros_full_features = pd.read_csv('dataset.csv')\n",
    "\n",
    "# First: Separate the categorical from the boolean data\n"
   ]
  },
  {
   "cell_type": "code",
   "execution_count": 3,
   "metadata": {},
   "outputs": [],
   "source": [
    "# Preprocessing\n",
    "heros_nominal_information = heros_full_features.iloc[:, 2:11]\n",
    "heros_boolean_information = heros_full_features.iloc[:, 11:]\n",
    "heros_numerical_information = heros_full_features.loc[:, ['Height', 'Weight']]"
   ]
  },
  {
   "cell_type": "code",
   "execution_count": 4,
   "metadata": {},
   "outputs": [],
   "source": [
    "# Remove Skin color, cause it is not good for the decision, then separete height and weight from the nominal atributes\n",
    "heros_nominal_information = heros_nominal_information.drop(['Skin color', 'Height', 'Weight'], axis=1)"
   ]
  },
  {
   "cell_type": "code",
   "execution_count": 5,
   "metadata": {},
   "outputs": [],
   "source": [
    "# Treat the missing numerical values giving then the mean of the others\n",
    "imp = SimpleImputer(missing_values=-99, strategy='mean')\n",
    "heros_numerical_information['Height'] = imp.fit_transform(np.array(heros_numerical_information['Height']).reshape(-1, 1))\n",
    "heros_numerical_information['Weight'] = imp.fit_transform(np.array(heros_numerical_information['Weight']).reshape(-1, 1))"
   ]
  },
  {
   "cell_type": "code",
   "execution_count": 6,
   "metadata": {},
   "outputs": [],
   "source": [
    "# Treat the missing nominal values giving then the most frequent of the others \n",
    "imp = SimpleImputer(missing_values='-', strategy='most_frequent')\n",
    "# Labeling the nominal attributes \n",
    "le = preprocessing.LabelEncoder()\n",
    "# All of this in the same loop\n",
    "\n",
    "for index, item in heros_nominal_information.iteritems():\n",
    "    heros_nominal_information.loc[:, index] = imp.fit_transform(np.array(heros_nominal_information.loc[:, index]).reshape(-1, 1))\n",
    "    heros_nominal_information.loc[:, index] = le.fit_transform(heros_nominal_information.loc[:, index].astype(str))"
   ]
  },
  {
   "cell_type": "code",
   "execution_count": 7,
   "metadata": {},
   "outputs": [],
   "source": [
    "# Discretize numerical attributes\n",
    "#est = preprocessing.KBinsDiscretizer(n_bins=5, encode='ordinal', strategy='uniform')\n",
    "#heros_numerical_information = est.fit(heros_numerical_information)"
   ]
  },
  {
   "cell_type": "code",
   "execution_count": 8,
   "metadata": {},
   "outputs": [],
   "source": [
    "pre_processed_dataset = pd.concat([heros_nominal_information, heros_boolean_information, heros_numerical_information], axis=1)"
   ]
  },
  {
   "cell_type": "code",
   "execution_count": 9,
   "metadata": {},
   "outputs": [
    {
     "data": {
      "text/html": [
       "<div>\n",
       "<style scoped>\n",
       "    .dataframe tbody tr th:only-of-type {\n",
       "        vertical-align: middle;\n",
       "    }\n",
       "\n",
       "    .dataframe tbody tr th {\n",
       "        vertical-align: top;\n",
       "    }\n",
       "\n",
       "    .dataframe thead th {\n",
       "        text-align: right;\n",
       "    }\n",
       "</style>\n",
       "<table border=\"1\" class=\"dataframe\">\n",
       "  <thead>\n",
       "    <tr style=\"text-align: right;\">\n",
       "      <th></th>\n",
       "      <th>Gender</th>\n",
       "      <th>Eye color</th>\n",
       "      <th>Race</th>\n",
       "      <th>Hair color</th>\n",
       "      <th>Publisher</th>\n",
       "      <th>Alignment</th>\n",
       "      <th>Agility</th>\n",
       "      <th>Accelerated Healing</th>\n",
       "      <th>Lantern Power Ring</th>\n",
       "      <th>Dimensional Awareness</th>\n",
       "      <th>...</th>\n",
       "      <th>Odin Force</th>\n",
       "      <th>Symbiote Costume</th>\n",
       "      <th>Speed Force</th>\n",
       "      <th>Phoenix Force</th>\n",
       "      <th>Molecular Dissipation</th>\n",
       "      <th>Vision - Cryo</th>\n",
       "      <th>Omnipresent</th>\n",
       "      <th>Omniscient</th>\n",
       "      <th>Height</th>\n",
       "      <th>Weight</th>\n",
       "    </tr>\n",
       "  </thead>\n",
       "  <tbody>\n",
       "    <tr>\n",
       "      <th>0</th>\n",
       "      <td>1</td>\n",
       "      <td>18</td>\n",
       "      <td>22</td>\n",
       "      <td>14</td>\n",
       "      <td>11</td>\n",
       "      <td>1</td>\n",
       "      <td>False</td>\n",
       "      <td>True</td>\n",
       "      <td>False</td>\n",
       "      <td>False</td>\n",
       "      <td>...</td>\n",
       "      <td>False</td>\n",
       "      <td>False</td>\n",
       "      <td>False</td>\n",
       "      <td>False</td>\n",
       "      <td>False</td>\n",
       "      <td>False</td>\n",
       "      <td>False</td>\n",
       "      <td>False</td>\n",
       "      <td>203.000000</td>\n",
       "      <td>441.000000</td>\n",
       "    </tr>\n",
       "    <tr>\n",
       "      <th>1</th>\n",
       "      <td>1</td>\n",
       "      <td>2</td>\n",
       "      <td>31</td>\n",
       "      <td>14</td>\n",
       "      <td>2</td>\n",
       "      <td>1</td>\n",
       "      <td>True</td>\n",
       "      <td>True</td>\n",
       "      <td>False</td>\n",
       "      <td>False</td>\n",
       "      <td>...</td>\n",
       "      <td>False</td>\n",
       "      <td>False</td>\n",
       "      <td>False</td>\n",
       "      <td>False</td>\n",
       "      <td>False</td>\n",
       "      <td>False</td>\n",
       "      <td>False</td>\n",
       "      <td>False</td>\n",
       "      <td>191.000000</td>\n",
       "      <td>65.000000</td>\n",
       "    </tr>\n",
       "    <tr>\n",
       "      <th>2</th>\n",
       "      <td>1</td>\n",
       "      <td>2</td>\n",
       "      <td>53</td>\n",
       "      <td>14</td>\n",
       "      <td>1</td>\n",
       "      <td>1</td>\n",
       "      <td>False</td>\n",
       "      <td>False</td>\n",
       "      <td>True</td>\n",
       "      <td>False</td>\n",
       "      <td>...</td>\n",
       "      <td>False</td>\n",
       "      <td>False</td>\n",
       "      <td>False</td>\n",
       "      <td>False</td>\n",
       "      <td>False</td>\n",
       "      <td>False</td>\n",
       "      <td>False</td>\n",
       "      <td>False</td>\n",
       "      <td>185.000000</td>\n",
       "      <td>90.000000</td>\n",
       "    </tr>\n",
       "    <tr>\n",
       "      <th>3</th>\n",
       "      <td>1</td>\n",
       "      <td>7</td>\n",
       "      <td>26</td>\n",
       "      <td>14</td>\n",
       "      <td>11</td>\n",
       "      <td>0</td>\n",
       "      <td>False</td>\n",
       "      <td>True</td>\n",
       "      <td>False</td>\n",
       "      <td>False</td>\n",
       "      <td>...</td>\n",
       "      <td>False</td>\n",
       "      <td>False</td>\n",
       "      <td>False</td>\n",
       "      <td>False</td>\n",
       "      <td>False</td>\n",
       "      <td>False</td>\n",
       "      <td>False</td>\n",
       "      <td>False</td>\n",
       "      <td>203.000000</td>\n",
       "      <td>441.000000</td>\n",
       "    </tr>\n",
       "    <tr>\n",
       "      <th>4</th>\n",
       "      <td>1</td>\n",
       "      <td>2</td>\n",
       "      <td>10</td>\n",
       "      <td>1</td>\n",
       "      <td>11</td>\n",
       "      <td>0</td>\n",
       "      <td>False</td>\n",
       "      <td>False</td>\n",
       "      <td>False</td>\n",
       "      <td>True</td>\n",
       "      <td>...</td>\n",
       "      <td>False</td>\n",
       "      <td>False</td>\n",
       "      <td>False</td>\n",
       "      <td>False</td>\n",
       "      <td>False</td>\n",
       "      <td>False</td>\n",
       "      <td>False</td>\n",
       "      <td>False</td>\n",
       "      <td>187.237755</td>\n",
       "      <td>113.651709</td>\n",
       "    </tr>\n",
       "  </tbody>\n",
       "</table>\n",
       "<p>5 rows × 175 columns</p>\n",
       "</div>"
      ],
      "text/plain": [
       "   Gender  Eye color  Race  Hair color  Publisher  Alignment  Agility  \\\n",
       "0       1         18    22          14         11          1    False   \n",
       "1       1          2    31          14          2          1     True   \n",
       "2       1          2    53          14          1          1    False   \n",
       "3       1          7    26          14         11          0    False   \n",
       "4       1          2    10           1         11          0    False   \n",
       "\n",
       "   Accelerated Healing  Lantern Power Ring  Dimensional Awareness  ...  \\\n",
       "0                 True               False                  False  ...   \n",
       "1                 True               False                  False  ...   \n",
       "2                False                True                  False  ...   \n",
       "3                 True               False                  False  ...   \n",
       "4                False               False                   True  ...   \n",
       "\n",
       "   Odin Force  Symbiote Costume  Speed Force  Phoenix Force  \\\n",
       "0       False             False        False          False   \n",
       "1       False             False        False          False   \n",
       "2       False             False        False          False   \n",
       "3       False             False        False          False   \n",
       "4       False             False        False          False   \n",
       "\n",
       "   Molecular Dissipation  Vision - Cryo  Omnipresent  Omniscient      Height  \\\n",
       "0                  False          False        False       False  203.000000   \n",
       "1                  False          False        False       False  191.000000   \n",
       "2                  False          False        False       False  185.000000   \n",
       "3                  False          False        False       False  203.000000   \n",
       "4                  False          False        False       False  187.237755   \n",
       "\n",
       "       Weight  \n",
       "0  441.000000  \n",
       "1   65.000000  \n",
       "2   90.000000  \n",
       "3  441.000000  \n",
       "4  113.651709  \n",
       "\n",
       "[5 rows x 175 columns]"
      ]
     },
     "execution_count": 9,
     "metadata": {},
     "output_type": "execute_result"
    }
   ],
   "source": [
    "pre_processed_dataset.head()"
   ]
  },
  {
   "cell_type": "code",
   "execution_count": 65,
   "metadata": {},
   "outputs": [],
   "source": [
    "# For Super Strength\n",
    "target = pre_processed_dataset.loc[:, 'Super Strength']\n",
    "x_train, x_test, y_train, y_test = train_test_split(pre_processed_dataset.drop(['Super Strength'], axis=1), target, test_size = 0.25, random_state = 42)"
   ]
  },
  {
   "cell_type": "code",
   "execution_count": 66,
   "metadata": {},
   "outputs": [
    {
     "data": {
      "image/png": "[encoded data removed]",
      "text/plain": [
       "<Figure size 432x288 with 1 Axes>"
      ]
     },
     "metadata": {
      "needs_background": "light"
     },
     "output_type": "display_data"
    }
   ],
   "source": [
    "max_depths = np.linspace(1, 32, 32, endpoint=True)\n",
    "\n",
    "train_results = []\n",
    "test_results = []\n",
    "for max_depth in max_depths:\n",
    "   dt = DecisionTreeClassifier(max_depth=max_depth)\n",
    "   dt.fit(x_train, y_train)\n",
    "   train_pred = dt.predict(x_train)\n",
    "   false_positive_rate, true_positive_rate, thresholds = roc_curve(y_train, train_pred)\n",
    "   roc_auc = auc(false_positive_rate, true_positive_rate)\n",
    "   # Add auc score to previous train results\n",
    "   train_results.append(roc_auc)\n",
    "   y_pred = dt.predict(x_test)\n",
    "   false_positive_rate, true_positive_rate, thresholds = roc_curve(y_test, y_pred)\n",
    "   roc_auc = auc(false_positive_rate, true_positive_rate)\n",
    "   # Add auc score to previous test results\n",
    "   test_results.append(roc_auc)\n",
    "line1, = plt.plot(max_depths, train_results, 'b', label=\"Train AUC\")\n",
    "line2, = plt.plot(max_depths, test_results, 'r', label=\"Test AUC\")\n",
    "plt.legend(handler_map={line1: HandlerLine2D(numpoints=2)})\n",
    "plt.ylabel('AUC score')\n",
    "plt.xlabel('Tree depth')\n",
    "plt.show()"
   ]
  },
  {
   "cell_type": "code",
   "execution_count": 81,
   "metadata": {},
   "outputs": [
    {
     "name": "stdout",
     "output_type": "stream",
     "text": [
      "Accuracy on the train subset: 1.0\n",
      "Accuracy on the test subset: 0.8242424242424242\n"
     ]
    }
   ],
   "source": [
    "tree_classifier = DecisionTreeClassifier(random_state = 0, max_depth = 25)\n",
    "tree_classifier.fit(x_train, y_train)\n",
    "\n",
    "# Filling all the NaN occurences, with the set mean\n",
    "print('Accuracy on the train subset: ' + str(tree_classifier.score(x_train, y_train)))\n",
    "print('Accuracy on the test subset: ' + str(tree_classifier.score(x_test, y_test)))"
   ]
  },
  {
   "cell_type": "code",
   "execution_count": 75,
   "metadata": {},
   "outputs": [
    {
     "name": "stdout",
     "output_type": "stream",
     "text": [
      "[(3, 0.8485439748995), (4, 0.8516478223699263), (5, 0.8319216022210639), (6, 0.8424315765391517), (7, 0.8258262333940548), (8, 0.821395630462567), (9, 0.8167873355316912), (10, 0.819714179064683), (11, 0.8212662748153845), (12, 0.8152842641951482), (13, 0.8136181221757208), (14, 0.8228833924206536), (15, 0.8272976538807554), (16, 0.8090908465398224), (17, 0.8107236175545246), (18, 0.810674937171343), (19, 0.812211723543588), (20, 0.8121470457199967), (21, 0.8046282487275155), (22, 0.8061966859496029), (23, 0.8001169705320267), (24, 0.801620729930523), (25, 0.8016854077541142), (26, 0.8062613637731941), (27, 0.8061643470378074), (28, 0.8046929265511068), (29, 0.8031568282408149), (30, 0.8031568282408149), (31, 0.8031568282408149), (32, 0.8031568282408149)]\n"
     ]
    }
   ],
   "source": [
    "depth = []\n",
    "for i in range(3,33):\n",
    "    clf = DecisionTreeClassifier(max_depth=i, random_state = 0)\n",
    "    # Perform 7-fold cross validation \n",
    "    scores = cross_val_score(estimator=clf, X=pre_processed_dataset.drop(['Super Strength'], axis=1), y=target, cv=7, n_jobs=4)\n",
    "    depth.append((i,scores.mean()))\n",
    "print(depth)"
   ]
  },
  {
   "cell_type": "code",
   "execution_count": null,
   "metadata": {},
   "outputs": [],
   "source": []
  }
 ],
 "metadata": {
  "kernelspec": {
   "display_name": "Python 3",
   "language": "python",
   "name": "python3"
  },
  "language_info": {
   "codemirror_mode": {
    "name": "ipython",
    "version": 3
   },
   "file_extension": ".py",
   "mimetype": "text/x-python",
   "name": "python",
   "nbconvert_exporter": "python",
   "pygments_lexer": "ipython3",
   "version": "3.7.3"
  }
 },
 "nbformat": 4,
 "nbformat_minor": 2
}
